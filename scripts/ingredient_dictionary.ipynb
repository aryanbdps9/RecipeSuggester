{
 "cells": [
  {
   "cell_type": "code",
   "execution_count": 1,
   "metadata": {},
   "outputs": [],
   "source": [
    "import json\n",
    "import os\n",
    "from os import path"
   ]
  },
  {
   "cell_type": "code",
   "execution_count": 2,
   "metadata": {},
   "outputs": [],
   "source": [
    "datadir=os.path.join('..','dumps')"
   ]
  },
  {
   "cell_type": "code",
   "execution_count": 3,
   "metadata": {},
   "outputs": [],
   "source": [
    "f1name = 'recipes_raw_nosource_ar.json'\n",
    "f2name = 'recipes_raw_nosource_epi.json'\n",
    "f3name = 'recipes_raw_nosource_fn.json'"
   ]
  },
  {
   "cell_type": "code",
   "execution_count": 4,
   "metadata": {},
   "outputs": [],
   "source": [
    "f1path = path.join(datadir, f1name)\n",
    "f2path = path.join(datadir, f2name)\n",
    "f3path = path.join(datadir, f3name)"
   ]
  },
  {
   "cell_type": "code",
   "execution_count": 5,
   "metadata": {},
   "outputs": [],
   "source": [
    "f1r = open(f1path, 'r')\n",
    "f2r = open(f2path, 'r')\n",
    "f3r = open(f3path, 'r')\n",
    "\n",
    "data1 = json.load(f1r)\n",
    "data2 = json.load(f2r)\n",
    "data3 = json.load(f3r)\n",
    "f1r.close()\n",
    "f2r.close()\n",
    "f3r.close()"
   ]
  },
  {
   "cell_type": "code",
   "execution_count": 6,
   "metadata": {},
   "outputs": [],
   "source": [
    "ingredient_list={}"
   ]
  },
  {
   "cell_type": "code",
   "execution_count": 7,
   "metadata": {},
   "outputs": [],
   "source": [
    "def getIngridient(data,ingredient_list):\n",
    "    i=0;\n",
    "    for key in data:\n",
    "        l=sep_ingredient(data[key])\n",
    "        if(len(l)==0):\n",
    "            continue\n",
    "        print(i)\n",
    "        i=i+1;\n",
    "        unique_words=process_text(l)\n",
    "        #print(unique_words)\n",
    "        for word in unique_words:\n",
    "            if word not in ingredient_list:\n",
    "                ingredient_list[word]=key\n",
    "            elif type(ingredient_list[word]) == list:\n",
    "                ingredient_list[word].append(key)\n",
    "            else:\n",
    "                ingredient_list[word]=[ingredient_list[word],key]\n",
    "        if(i==5):\n",
    "            break\n",
    "\n",
    "\n",
    "        \n",
    "    "
   ]
  },
  {
   "cell_type": "code",
   "execution_count": 8,
   "metadata": {},
   "outputs": [],
   "source": [
    "def sep_ingredient(jsonitem):\n",
    "    if 'sep_ingredients' not in jsonitem:\n",
    "        return \"\"\n",
    "    sep_ingredients=jsonitem['sep_ingredients']\n",
    "    s=\"\"\n",
    "    for ingredients in sep_ingredients:\n",
    "        if(len(ingredients)>1 and len(ingredients[1])>0):\n",
    "            s+=ingredients[1]\n",
    "            s+=\" \"\n",
    "            \n",
    "    \n",
    "    return s\n",
    "    "
   ]
  },
  {
   "cell_type": "code",
   "execution_count": 9,
   "metadata": {},
   "outputs": [
    {
     "name": "stderr",
     "output_type": "stream",
     "text": [
      "[nltk_data] Downloading package stopwords to /home/saloni/nltk_data...\n",
      "[nltk_data]   Package stopwords is already up-to-date!\n"
     ]
    }
   ],
   "source": [
    "import nltk\n",
    "from nltk.corpus import stopwords\n",
    "nltk.download('stopwords')\n",
    "from nltk.tokenize import word_tokenize"
   ]
  },
  {
   "cell_type": "code",
   "execution_count": 18,
   "metadata": {},
   "outputs": [],
   "source": [
    "from nltk.stem import WordNetLemmatizer\n",
    "\n",
    "lemmatizer = WordNetLemmatizer()"
   ]
  },
  {
   "cell_type": "code",
   "execution_count": 22,
   "metadata": {},
   "outputs": [],
   "source": [
    "def process_text(text):\n",
    "    text_lower=text.lower()\n",
    "    tokens_without_sw=remove_stopwords(text_lower)\n",
    "    unique_words=[e for e in tokens_without_sw if e.isalnum()]\n",
    "    print(unique_words)\n",
    "    print(\"\\n\")\n",
    "    lemma = [lemmatizer.lemmatize(e) for e in unique_words]\n",
    "    return lemma\n",
    "    #print(unique_words)\n",
    "    \n",
    "    "
   ]
  },
  {
   "cell_type": "code",
   "execution_count": 11,
   "metadata": {},
   "outputs": [],
   "source": [
    "def remove_stopwords(text):\n",
    "    text_tokens = word_tokenize(text)\n",
    "    tokens_without_sw = set([word for word in text_tokens if not word in stopwords.words()])\n",
    "    return tokens_without_sw"
   ]
  },
  {
   "cell_type": "code",
   "execution_count": 28,
   "metadata": {
    "scrolled": true
   },
   "outputs": [
    {
     "name": "stdout",
     "output_type": "stream",
     "text": [
      "0\n",
      "['lemon', 'apple', 'juice', 'leaves', 'advertisement', 'sprig', 'pineapple', 'orange', 'fresh']\n",
      "\n",
      "\n",
      "1\n",
      "['softened', 'low', 'mix', 'confectioners', 'vegetable', 'calorie', 'chocolate', 'dark', 'eggs', 'advertisement', 'sugar', 'oil', 'cream', 'cheese', 'package', 'cake']\n",
      "\n",
      "\n",
      "2\n",
      "['flour', 'finely', 'egg', 'yolk', 'walnuts', 'cinnamon', 'advertisement', 'sugar', 'white', 'ground', 'butter', 'chopped']\n",
      "\n",
      "\n",
      "3\n",
      "['jack', 'diced', 'chile', 'eggs', 'beaten', 'advertisement', 'cottage', 'powder', 'bacon', 'flour', 'drained', 'shredded', 'green', 'salt', 'baking', 'monterey', 'peppers', 'container', 'melted', 'cheese', 'butter']\n",
      "\n",
      "\n",
      "4\n",
      "['softened', 'confectioners', 'vanilla', 'advertisement', 'sugar', 'extract', 'cream', 'cheese', 'package', 'butter']\n",
      "\n",
      "\n"
     ]
    }
   ],
   "source": [
    "getIngridient(data1,ingredient_list)"
   ]
  },
  {
   "cell_type": "code",
   "execution_count": 27,
   "metadata": {},
   "outputs": [
    {
     "data": {
      "text/plain": [
       "'roast'"
      ]
     },
     "execution_count": 27,
     "metadata": {},
     "output_type": "execute_result"
    }
   ],
   "source": [
    "lemmatizer.lemmatize(\"roast\")"
   ]
  },
  {
   "cell_type": "code",
   "execution_count": 20,
   "metadata": {},
   "outputs": [],
   "source": [
    "l=\"veal scallops, pounded to 1/4 inch thickness ADVERTISEMENT salt and pepper to taste ADVERTISEMENT all-purpose flour for coating ADVERTISEMENT butter ADVERTISEMENT olive oil ADVERTISEMENT dry Marsala wine ADVERTISEMENT chicken stock, divided ADVERTISEMENT butter, softened ADVERTISEMENT ADVERTISEMENT \""
   ]
  },
  {
   "cell_type": "code",
   "execution_count": 23,
   "metadata": {},
   "outputs": [
    {
     "name": "stdout",
     "output_type": "stream",
     "text": [
      "['softened', 'stock', 'divided', 'advertisement', 'oil', 'dry', 'flour', 'inch', 'chicken', 'thickness', 'pounded', 'taste', 'salt', 'coating', 'marsala', 'wine', 'scallops', 'veal', 'pepper', 'olive', 'butter']\n",
      "\n",
      "\n"
     ]
    },
    {
     "data": {
      "text/plain": [
       "['softened',\n",
       " 'stock',\n",
       " 'divided',\n",
       " 'advertisement',\n",
       " 'oil',\n",
       " 'dry',\n",
       " 'flour',\n",
       " 'inch',\n",
       " 'chicken',\n",
       " 'thickness',\n",
       " 'pounded',\n",
       " 'taste',\n",
       " 'salt',\n",
       " 'coating',\n",
       " 'marsala',\n",
       " 'wine',\n",
       " 'scallop',\n",
       " 'veal',\n",
       " 'pepper',\n",
       " 'olive',\n",
       " 'butter']"
      ]
     },
     "execution_count": 23,
     "metadata": {},
     "output_type": "execute_result"
    }
   ],
   "source": [
    "process_text(l)"
   ]
  },
  {
   "cell_type": "code",
   "execution_count": 15,
   "metadata": {},
   "outputs": [
    {
     "name": "stdout",
     "output_type": "stream",
     "text": [
      "52\n"
     ]
    }
   ],
   "source": [
    "print(len(ingredient_list))"
   ]
  },
  {
   "cell_type": "code",
   "execution_count": 16,
   "metadata": {},
   "outputs": [
    {
     "name": "stdout",
     "output_type": "stream",
     "text": [
      "0\n",
      "1\n",
      "2\n",
      "3\n",
      "4\n"
     ]
    }
   ],
   "source": [
    "getIngridient(data2,ingredient_list)"
   ]
  },
  {
   "cell_type": "code",
   "execution_count": 17,
   "metadata": {},
   "outputs": [
    {
     "name": "stdout",
     "output_type": "stream",
     "text": [
      "147\n"
     ]
    }
   ],
   "source": [
    "print(len(ingredient_list))"
   ]
  },
  {
   "cell_type": "code",
   "execution_count": null,
   "metadata": {},
   "outputs": [],
   "source": []
  }
 ],
 "metadata": {
  "kernelspec": {
   "display_name": "Python 3",
   "language": "python",
   "name": "python3"
  },
  "language_info": {
   "codemirror_mode": {
    "name": "ipython",
    "version": 3
   },
   "file_extension": ".py",
   "mimetype": "text/x-python",
   "name": "python",
   "nbconvert_exporter": "python",
   "pygments_lexer": "ipython3",
   "version": "3.5.2"
  }
 },
 "nbformat": 4,
 "nbformat_minor": 2
}
